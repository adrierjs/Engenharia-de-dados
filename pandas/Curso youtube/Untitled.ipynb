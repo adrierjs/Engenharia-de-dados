{
 "cells": [
  {
   "cell_type": "code",
   "execution_count": 2,
   "metadata": {},
   "outputs": [],
   "source": [
    "import pandas as pd\n",
    "import numpy as np\n",
    "\n",
    "fileName = './caso_full.csv'\n",
    "df = pd.read_csv(fileName)\n"
   ]
  },
  {
   "cell_type": "code",
   "execution_count": 31,
   "id": "596604e7",
   "metadata": {},
   "outputs": [
    {
     "name": "stdout",
     "output_type": "stream",
     "text": [
      "                      city  city_ibge_code        date  epidemiological_week  \\\n",
      "2209533  Rio Branco do Sul       4122206.0  2020-03-30                202014   \n",
      "2209571  Rio Branco do Sul       4122206.0  2020-03-31                202014   \n",
      "2209617  Rio Branco do Sul       4122206.0  2020-04-01                202014   \n",
      "2209668  Rio Branco do Sul       4122206.0  2020-04-02                202014   \n",
      "2209725  Rio Branco do Sul       4122206.0  2020-04-03                202014   \n",
      "...                    ...             ...         ...                   ...   \n",
      "2480076  Rio Branco do Sul       4122206.0  2022-03-23                202212   \n",
      "2480477  Rio Branco do Sul       4122206.0  2022-03-24                202212   \n",
      "2480878  Rio Branco do Sul       4122206.0  2022-03-25                202212   \n",
      "2481279  Rio Branco do Sul       4122206.0  2022-03-26                202212   \n",
      "2481680  Rio Branco do Sul       4122206.0  2022-03-27                202213   \n",
      "\n",
      "         estimated_population  estimated_population_2019  is_last  \\\n",
      "2209533               32517.0                    32397.0    False   \n",
      "2209571               32517.0                    32397.0    False   \n",
      "2209617               32517.0                    32397.0    False   \n",
      "2209668               32517.0                    32397.0    False   \n",
      "2209725               32517.0                    32397.0    False   \n",
      "...                       ...                        ...      ...   \n",
      "2480076               32517.0                    32397.0    False   \n",
      "2480477               32517.0                    32397.0    False   \n",
      "2480878               32517.0                    32397.0    False   \n",
      "2481279               32517.0                    32397.0    False   \n",
      "2481680               32517.0                    32397.0    False   \n",
      "\n",
      "         is_repeated  last_available_confirmed  \\\n",
      "2209533        False                         1   \n",
      "2209571        False                         1   \n",
      "2209617        False                         1   \n",
      "2209668        False                         1   \n",
      "2209725        False                         1   \n",
      "...              ...                       ...   \n",
      "2480076         True                      5708   \n",
      "2480477         True                      5708   \n",
      "2480878         True                      5708   \n",
      "2481279         True                      5708   \n",
      "2481680         True                      5708   \n",
      "\n",
      "         last_available_confirmed_per_100k_inhabitants last_available_date  \\\n",
      "2209533                                        3.07531          2020-03-30   \n",
      "2209571                                        3.07531          2020-03-31   \n",
      "2209617                                        3.07531          2020-04-01   \n",
      "2209668                                        3.07531          2020-04-02   \n",
      "2209725                                        3.07531          2020-04-03   \n",
      "...                                                ...                 ...   \n",
      "2480076                                    17553.89489          2021-10-26   \n",
      "2480477                                    17553.89489          2021-10-26   \n",
      "2480878                                    17553.89489          2021-10-26   \n",
      "2481279                                    17553.89489          2021-10-26   \n",
      "2481680                                    17553.89489          2021-10-26   \n",
      "\n",
      "         last_available_death_rate  last_available_deaths  order_for_place  \\\n",
      "2209533                     0.0000                      0                1   \n",
      "2209571                     0.0000                      0                2   \n",
      "2209617                     0.0000                      0                3   \n",
      "2209668                     0.0000                      0                4   \n",
      "2209725                     0.0000                      0                5   \n",
      "...                            ...                    ...              ...   \n",
      "2480076                     0.0277                    158              724   \n",
      "2480477                     0.0277                    158              725   \n",
      "2480878                     0.0277                    158              726   \n",
      "2481279                     0.0277                    158              727   \n",
      "2481680                     0.0277                    158              728   \n",
      "\n",
      "        place_type state  new_confirmed  new_deaths  \n",
      "2209533       city    PR              1           0  \n",
      "2209571       city    PR              0           0  \n",
      "2209617       city    PR              0           0  \n",
      "2209668       city    PR              0           0  \n",
      "2209725       city    PR              0           0  \n",
      "...            ...   ...            ...         ...  \n",
      "2480076       city    PR              0           0  \n",
      "2480477       city    PR              0           0  \n",
      "2480878       city    PR              0           0  \n",
      "2481279       city    PR              0           0  \n",
      "2481680       city    PR              0           0  \n",
      "\n",
      "[728 rows x 18 columns]\n"
     ]
    }
   ],
   "source": [
    "print(df[df['city'].str.contains('Rio Branco do Sul', na=False)])\n"
   ]
  }
 ],
 "metadata": {
  "kernelspec": {
   "display_name": "venv",
   "language": "python",
   "name": "python3"
  },
  "language_info": {
   "codemirror_mode": {
    "name": "ipython",
    "version": 3
   },
   "file_extension": ".py",
   "mimetype": "text/x-python",
   "name": "python",
   "nbconvert_exporter": "python",
   "pygments_lexer": "ipython3",
   "version": "3.10.12"
  }
 },
 "nbformat": 4,
 "nbformat_minor": 5
}
